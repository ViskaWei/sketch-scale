{
 "cells": [
  {
   "cell_type": "code",
   "execution_count": 1,
   "metadata": {},
   "outputs": [],
   "source": [
    "DATASET_PATH = '/scratch/ceph/szalay/swei20/cancerHH/AceCanZ/data/bki'"
   ]
  },
  {
   "cell_type": "code",
   "execution_count": 2,
   "metadata": {},
   "outputs": [],
   "source": [
    "import os\n",
    "import sys\n",
    "import numpy as np\n",
    "import pandas as pd\n",
    "import matplotlib.pyplot as plt"
   ]
  },
  {
   "cell_type": "code",
   "execution_count": 3,
   "metadata": {},
   "outputs": [],
   "source": [
    "sys.path.insert(0, '../..')"
   ]
  },
  {
   "cell_type": "code",
   "execution_count": 4,
   "metadata": {},
   "outputs": [],
   "source": [
    "%load_ext autoreload\n",
    "%autoreload 2"
   ]
  },
  {
   "cell_type": "code",
   "execution_count": 46,
   "metadata": {},
   "outputs": [],
   "source": [
    "from src.pipelines.cancerPipeline import CancerPipeline\n",
    "from src.dataset.save import save_dataset, load_dataset"
   ]
  },
  {
   "cell_type": "code",
   "execution_count": 64,
   "metadata": {},
   "outputs": [],
   "source": [
    "sys.argv = ['eval_cancerPipeline', '--config', \"/home/swei20/sketch-scale/src/configs/cancerConfig_test.json\"]"
   ]
  },
  {
   "cell_type": "code",
   "execution_count": 65,
   "metadata": {},
   "outputs": [],
   "source": [
    "cp = CancerPipeline()"
   ]
  },
  {
   "cell_type": "code",
   "execution_count": 66,
   "metadata": {},
   "outputs": [
    {
     "name": "stderr",
     "output_type": "stream",
     "text": [
      "INFO:root:Output directory is ../../out\n",
      "INFO:root:saving dict_items([('mat', False), ('mask', False), ('maskId', None)])\n"
     ]
    },
    {
     "name": "stdout",
     "output_type": "stream",
     "text": [
      "Output directory not Empty, Replacing might occurs\n"
     ]
    }
   ],
   "source": [
    "cp.prepare()"
   ]
  },
  {
   "cell_type": "code",
   "execution_count": 67,
   "metadata": {},
   "outputs": [
    {
     "name": "stderr",
     "output_type": "stream",
     "text": [
      "INFO:root:  Loading # 1 image(s) \n",
      "INFO:root:  Loaded dataset with shapes: 1004 1344\n",
      "INFO:root:=============== PCA: 8 ===============\n",
      "INFO:root:Explained Variance Ratio [0.74  0.132 0.072 0.038 0.011 0.003 0.001 0.001 0.    0.    0.    0.\n",
      " 0.    0.    0.    0.    0.    0.    0.    0.    0.    0.    0.    0.\n",
      " 0.    0.    0.    0.    0.    0.    0.    0.    0.    0.    0.   ]\n",
      "INFO:root: PCA output Shape:  (1349376, 8)\n",
      "INFO:root:stream length m = 689382\n",
      "INFO:root: cutoff @:  [250.]\n"
     ]
    }
   ],
   "source": [
    "dfNorm = cp.run(saveNorm=True)"
   ]
  },
  {
   "cell_type": "code",
   "execution_count": 63,
   "metadata": {},
   "outputs": [
    {
     "data": {
      "text/html": [
       "<div>\n",
       "<style scoped>\n",
       "    .dataframe tbody tr th:only-of-type {\n",
       "        vertical-align: middle;\n",
       "    }\n",
       "\n",
       "    .dataframe tbody tr th {\n",
       "        vertical-align: top;\n",
       "    }\n",
       "\n",
       "    .dataframe thead th {\n",
       "        text-align: right;\n",
       "    }\n",
       "</style>\n",
       "<table border=\"1\" class=\"dataframe\">\n",
       "  <thead>\n",
       "    <tr style=\"text-align: right;\">\n",
       "      <th></th>\n",
       "      <th>d0</th>\n",
       "      <th>d1</th>\n",
       "      <th>d2</th>\n",
       "      <th>d3</th>\n",
       "      <th>d4</th>\n",
       "      <th>d5</th>\n",
       "      <th>d6</th>\n",
       "      <th>d7</th>\n",
       "    </tr>\n",
       "  </thead>\n",
       "  <tbody>\n",
       "    <tr>\n",
       "      <th>0</th>\n",
       "      <td>0.107121</td>\n",
       "      <td>0.738725</td>\n",
       "      <td>0.845613</td>\n",
       "      <td>0.804681</td>\n",
       "      <td>0.621779</td>\n",
       "      <td>0.605547</td>\n",
       "      <td>0.599121</td>\n",
       "      <td>0.600896</td>\n",
       "    </tr>\n",
       "    <tr>\n",
       "      <th>1</th>\n",
       "      <td>0.121556</td>\n",
       "      <td>0.753359</td>\n",
       "      <td>0.874972</td>\n",
       "      <td>0.791080</td>\n",
       "      <td>0.622210</td>\n",
       "      <td>0.593437</td>\n",
       "      <td>0.598288</td>\n",
       "      <td>0.598121</td>\n",
       "    </tr>\n",
       "    <tr>\n",
       "      <th>2</th>\n",
       "      <td>0.116791</td>\n",
       "      <td>0.759038</td>\n",
       "      <td>0.878839</td>\n",
       "      <td>0.765659</td>\n",
       "      <td>0.628680</td>\n",
       "      <td>0.586092</td>\n",
       "      <td>0.601528</td>\n",
       "      <td>0.603424</td>\n",
       "    </tr>\n",
       "    <tr>\n",
       "      <th>3</th>\n",
       "      <td>0.102127</td>\n",
       "      <td>0.759711</td>\n",
       "      <td>0.876359</td>\n",
       "      <td>0.717180</td>\n",
       "      <td>0.624526</td>\n",
       "      <td>0.581857</td>\n",
       "      <td>0.600687</td>\n",
       "      <td>0.613007</td>\n",
       "    </tr>\n",
       "    <tr>\n",
       "      <th>4</th>\n",
       "      <td>0.086537</td>\n",
       "      <td>0.751681</td>\n",
       "      <td>0.870540</td>\n",
       "      <td>0.647160</td>\n",
       "      <td>0.618729</td>\n",
       "      <td>0.565642</td>\n",
       "      <td>0.604822</td>\n",
       "      <td>0.614950</td>\n",
       "    </tr>\n",
       "    <tr>\n",
       "      <th>...</th>\n",
       "      <td>...</td>\n",
       "      <td>...</td>\n",
       "      <td>...</td>\n",
       "      <td>...</td>\n",
       "      <td>...</td>\n",
       "      <td>...</td>\n",
       "      <td>...</td>\n",
       "      <td>...</td>\n",
       "    </tr>\n",
       "    <tr>\n",
       "      <th>689377</th>\n",
       "      <td>0.009724</td>\n",
       "      <td>0.579681</td>\n",
       "      <td>0.542491</td>\n",
       "      <td>0.657564</td>\n",
       "      <td>0.563439</td>\n",
       "      <td>0.604214</td>\n",
       "      <td>0.616749</td>\n",
       "      <td>0.657772</td>\n",
       "    </tr>\n",
       "    <tr>\n",
       "      <th>689378</th>\n",
       "      <td>0.013174</td>\n",
       "      <td>0.606060</td>\n",
       "      <td>0.530437</td>\n",
       "      <td>0.666975</td>\n",
       "      <td>0.551956</td>\n",
       "      <td>0.608038</td>\n",
       "      <td>0.614290</td>\n",
       "      <td>0.665491</td>\n",
       "    </tr>\n",
       "    <tr>\n",
       "      <th>689379</th>\n",
       "      <td>0.010139</td>\n",
       "      <td>0.590363</td>\n",
       "      <td>0.571060</td>\n",
       "      <td>0.675751</td>\n",
       "      <td>0.587613</td>\n",
       "      <td>0.619372</td>\n",
       "      <td>0.632167</td>\n",
       "      <td>0.671267</td>\n",
       "    </tr>\n",
       "    <tr>\n",
       "      <th>689380</th>\n",
       "      <td>0.021661</td>\n",
       "      <td>0.562911</td>\n",
       "      <td>0.565627</td>\n",
       "      <td>0.665689</td>\n",
       "      <td>0.595155</td>\n",
       "      <td>0.597269</td>\n",
       "      <td>0.615128</td>\n",
       "      <td>0.740274</td>\n",
       "    </tr>\n",
       "    <tr>\n",
       "      <th>689381</th>\n",
       "      <td>0.016046</td>\n",
       "      <td>0.555148</td>\n",
       "      <td>0.552735</td>\n",
       "      <td>0.663147</td>\n",
       "      <td>0.552355</td>\n",
       "      <td>0.587779</td>\n",
       "      <td>0.648719</td>\n",
       "      <td>0.681039</td>\n",
       "    </tr>\n",
       "  </tbody>\n",
       "</table>\n",
       "<p>689382 rows × 8 columns</p>\n",
       "</div>"
      ],
      "text/plain": [
       "              d0        d1        d2        d3        d4        d5        d6  \\\n",
       "0       0.107121  0.738725  0.845613  0.804681  0.621779  0.605547  0.599121   \n",
       "1       0.121556  0.753359  0.874972  0.791080  0.622210  0.593437  0.598288   \n",
       "2       0.116791  0.759038  0.878839  0.765659  0.628680  0.586092  0.601528   \n",
       "3       0.102127  0.759711  0.876359  0.717180  0.624526  0.581857  0.600687   \n",
       "4       0.086537  0.751681  0.870540  0.647160  0.618729  0.565642  0.604822   \n",
       "...          ...       ...       ...       ...       ...       ...       ...   \n",
       "689377  0.009724  0.579681  0.542491  0.657564  0.563439  0.604214  0.616749   \n",
       "689378  0.013174  0.606060  0.530437  0.666975  0.551956  0.608038  0.614290   \n",
       "689379  0.010139  0.590363  0.571060  0.675751  0.587613  0.619372  0.632167   \n",
       "689380  0.021661  0.562911  0.565627  0.665689  0.595155  0.597269  0.615128   \n",
       "689381  0.016046  0.555148  0.552735  0.663147  0.552355  0.587779  0.648719   \n",
       "\n",
       "              d7  \n",
       "0       0.600896  \n",
       "1       0.598121  \n",
       "2       0.603424  \n",
       "3       0.613007  \n",
       "4       0.614950  \n",
       "...          ...  \n",
       "689377  0.657772  \n",
       "689378  0.665491  \n",
       "689379  0.671267  \n",
       "689380  0.740274  \n",
       "689381  0.681039  \n",
       "\n",
       "[689382 rows x 8 columns]"
      ]
     },
     "execution_count": 63,
     "metadata": {},
     "output_type": "execute_result"
    }
   ],
   "source": [
    "dfNorm"
   ]
  }
 ],
 "metadata": {
  "kernelspec": {
   "display_name": "Python 3.8.2 64-bit ('ptorch': conda)",
   "language": "python",
   "name": "python38264bitptorchconda526be3fe34db4c6e9ce522e086b57990"
  },
  "language_info": {
   "codemirror_mode": {
    "name": "ipython",
    "version": 3
   },
   "file_extension": ".py",
   "mimetype": "text/x-python",
   "name": "python",
   "nbconvert_exporter": "python",
   "pygments_lexer": "ipython3",
   "version": "3.8.2"
  }
 },
 "nbformat": 4,
 "nbformat_minor": 4
}
