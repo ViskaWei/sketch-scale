{
 "cells": [
  {
   "cell_type": "code",
   "execution_count": 8,
   "metadata": {},
   "outputs": [],
   "source": [
    "DATASET_PATH = 'out/test.hdf5'"
   ]
  },
  {
   "cell_type": "code",
   "execution_count": 9,
   "metadata": {},
   "outputs": [],
   "source": [
    "import os\n",
    "import sys\n",
    "import numpy as np\n",
    "import pandas as pd\n",
    "import matplotlib.pyplot as plt"
   ]
  },
  {
   "cell_type": "code",
   "execution_count": 10,
   "metadata": {},
   "outputs": [],
   "source": [
    "sys.path.insert(0, '../..')"
   ]
  },
  {
   "cell_type": "code",
   "execution_count": 11,
   "metadata": {},
   "outputs": [
    {
     "name": "stdout",
     "output_type": "stream",
     "text": [
      "The autoreload extension is already loaded. To reload it, use:\n",
      "  %reload_ext autoreload\n"
     ]
    }
   ],
   "source": [
    "%load_ext autoreload\n",
    "%autoreload 2"
   ]
  },
  {
   "cell_type": "code",
   "execution_count": 12,
   "metadata": {},
   "outputs": [],
   "source": [
    "from src.pipelines.cancerPipeline import CancerPipeline\n",
    "from src.dataset.save import save_dataset, load_dataset"
   ]
  },
  {
   "cell_type": "code",
   "execution_count": 5,
   "metadata": {},
   "outputs": [],
   "source": [
    "sys.argv = ['eval_cancerPipeline', '--config', \"/home/swei20/sketch-scale/src/configs/cellConfig_test.json\"]"
   ]
  },
  {
   "cell_type": "code",
   "execution_count": 6,
   "metadata": {},
   "outputs": [
    {
     "ename": "NameError",
     "evalue": "name 'CancerPipeline' is not defined",
     "output_type": "error",
     "traceback": [
      "\u001b[0;31m---------------------------------------------------------------------------\u001b[0m",
      "\u001b[0;31mNameError\u001b[0m                                 Traceback (most recent call last)",
      "\u001b[0;32m<ipython-input-6-4362f3ff3760>\u001b[0m in \u001b[0;36m<module>\u001b[0;34m\u001b[0m\n\u001b[0;32m----> 1\u001b[0;31m \u001b[0mcp\u001b[0m \u001b[0;34m=\u001b[0m \u001b[0mCancerPipeline\u001b[0m\u001b[0;34m(\u001b[0m\u001b[0;34m)\u001b[0m\u001b[0;34m\u001b[0m\u001b[0;34m\u001b[0m\u001b[0m\n\u001b[0m",
      "\u001b[0;31mNameError\u001b[0m: name 'CancerPipeline' is not defined"
     ]
    }
   ],
   "source": [
    "cp = CancerPipeline()"
   ]
  },
  {
   "cell_type": "code",
   "execution_count": 7,
   "metadata": {},
   "outputs": [
    {
     "ename": "NameError",
     "evalue": "name 'cp' is not defined",
     "output_type": "error",
     "traceback": [
      "\u001b[0;31m---------------------------------------------------------------------------\u001b[0m",
      "\u001b[0;31mNameError\u001b[0m                                 Traceback (most recent call last)",
      "\u001b[0;32m<ipython-input-7-d4426e80acdc>\u001b[0m in \u001b[0;36m<module>\u001b[0;34m\u001b[0m\n\u001b[0;32m----> 1\u001b[0;31m \u001b[0mcp\u001b[0m\u001b[0;34m.\u001b[0m\u001b[0mprepare\u001b[0m\u001b[0;34m(\u001b[0m\u001b[0;34m)\u001b[0m\u001b[0;34m\u001b[0m\u001b[0;34m\u001b[0m\u001b[0m\n\u001b[0m",
      "\u001b[0;31mNameError\u001b[0m: name 'cp' is not defined"
     ]
    }
   ],
   "source": [
    "cp.prepare()"
   ]
  },
  {
   "cell_type": "code",
   "execution_count": 54,
   "metadata": {},
   "outputs": [
    {
     "name": "stderr",
     "output_type": "stream",
     "text": [
      "INFO:root:  Loading # 1 image(s) \n",
      "INFO:root:  Loaded dataset with shapes: 1004 1344\n",
      "INFO:root:=============== PCA: 8 ===============\n",
      "INFO:root:Explained Variance Ratio [0.74  0.132 0.072 0.038 0.011 0.003 0.001 0.001 0.    0.    0.    0.\n",
      " 0.    0.    0.    0.    0.    0.    0.    0.    0.    0.    0.    0.\n",
      " 0.    0.    0.    0.    0.    0.    0.    0.    0.    0.    0.   ]\n",
      "INFO:root: PCA output Shape:  (1349376, 8)\n",
      "INFO:root:stream length m = 689382\n",
      "INFO:root: cutoff @:  [250.]\n"
     ]
    }
   ],
   "source": [
    "dfNorm = cp.run(saveNorm=True)"
   ]
  },
  {
   "cell_type": "code",
   "execution_count": 19,
   "metadata": {},
   "outputs": [
    {
     "data": {
      "text/html": [
       "<div>\n",
       "<style scoped>\n",
       "    .dataframe tbody tr th:only-of-type {\n",
       "        vertical-align: middle;\n",
       "    }\n",
       "\n",
       "    .dataframe tbody tr th {\n",
       "        vertical-align: top;\n",
       "    }\n",
       "\n",
       "    .dataframe thead th {\n",
       "        text-align: right;\n",
       "    }\n",
       "</style>\n",
       "<table border=\"1\" class=\"dataframe\">\n",
       "  <thead>\n",
       "    <tr style=\"text-align: right;\">\n",
       "      <th></th>\n",
       "      <th>d0</th>\n",
       "      <th>d1</th>\n",
       "      <th>d2</th>\n",
       "      <th>d3</th>\n",
       "      <th>d4</th>\n",
       "      <th>d5</th>\n",
       "      <th>d6</th>\n",
       "      <th>d7</th>\n",
       "    </tr>\n",
       "  </thead>\n",
       "  <tbody>\n",
       "    <tr>\n",
       "      <th>0</th>\n",
       "      <td>0.087656</td>\n",
       "      <td>0.310773</td>\n",
       "      <td>0.680413</td>\n",
       "      <td>0.655711</td>\n",
       "      <td>0.638731</td>\n",
       "      <td>0.638867</td>\n",
       "      <td>0.629401</td>\n",
       "      <td>0.613517</td>\n",
       "    </tr>\n",
       "    <tr>\n",
       "      <th>1</th>\n",
       "      <td>0.115149</td>\n",
       "      <td>0.265924</td>\n",
       "      <td>0.662200</td>\n",
       "      <td>0.665394</td>\n",
       "      <td>0.638162</td>\n",
       "      <td>0.635808</td>\n",
       "      <td>0.625600</td>\n",
       "      <td>0.615750</td>\n",
       "    </tr>\n",
       "    <tr>\n",
       "      <th>2</th>\n",
       "      <td>0.136399</td>\n",
       "      <td>0.237099</td>\n",
       "      <td>0.650176</td>\n",
       "      <td>0.672751</td>\n",
       "      <td>0.637976</td>\n",
       "      <td>0.632701</td>\n",
       "      <td>0.623327</td>\n",
       "      <td>0.616876</td>\n",
       "    </tr>\n",
       "    <tr>\n",
       "      <th>3</th>\n",
       "      <td>0.148912</td>\n",
       "      <td>0.221893</td>\n",
       "      <td>0.642867</td>\n",
       "      <td>0.677514</td>\n",
       "      <td>0.637036</td>\n",
       "      <td>0.631287</td>\n",
       "      <td>0.621542</td>\n",
       "      <td>0.618331</td>\n",
       "    </tr>\n",
       "    <tr>\n",
       "      <th>4</th>\n",
       "      <td>0.152212</td>\n",
       "      <td>0.218483</td>\n",
       "      <td>0.640673</td>\n",
       "      <td>0.682049</td>\n",
       "      <td>0.635764</td>\n",
       "      <td>0.629918</td>\n",
       "      <td>0.620734</td>\n",
       "      <td>0.619513</td>\n",
       "    </tr>\n",
       "    <tr>\n",
       "      <th>...</th>\n",
       "      <td>...</td>\n",
       "      <td>...</td>\n",
       "      <td>...</td>\n",
       "      <td>...</td>\n",
       "      <td>...</td>\n",
       "      <td>...</td>\n",
       "      <td>...</td>\n",
       "      <td>...</td>\n",
       "    </tr>\n",
       "    <tr>\n",
       "      <th>641908</th>\n",
       "      <td>0.053026</td>\n",
       "      <td>0.495735</td>\n",
       "      <td>0.405518</td>\n",
       "      <td>0.612959</td>\n",
       "      <td>0.651828</td>\n",
       "      <td>0.626037</td>\n",
       "      <td>0.607695</td>\n",
       "      <td>0.637428</td>\n",
       "    </tr>\n",
       "    <tr>\n",
       "      <th>641909</th>\n",
       "      <td>0.053938</td>\n",
       "      <td>0.479430</td>\n",
       "      <td>0.413306</td>\n",
       "      <td>0.618116</td>\n",
       "      <td>0.652189</td>\n",
       "      <td>0.625937</td>\n",
       "      <td>0.607780</td>\n",
       "      <td>0.637937</td>\n",
       "    </tr>\n",
       "    <tr>\n",
       "      <th>641910</th>\n",
       "      <td>0.052308</td>\n",
       "      <td>0.469862</td>\n",
       "      <td>0.424857</td>\n",
       "      <td>0.624395</td>\n",
       "      <td>0.650504</td>\n",
       "      <td>0.626551</td>\n",
       "      <td>0.608511</td>\n",
       "      <td>0.641257</td>\n",
       "    </tr>\n",
       "    <tr>\n",
       "      <th>641911</th>\n",
       "      <td>0.046912</td>\n",
       "      <td>0.469118</td>\n",
       "      <td>0.442572</td>\n",
       "      <td>0.631608</td>\n",
       "      <td>0.646845</td>\n",
       "      <td>0.627021</td>\n",
       "      <td>0.608553</td>\n",
       "      <td>0.648367</td>\n",
       "    </tr>\n",
       "    <tr>\n",
       "      <th>641912</th>\n",
       "      <td>0.037698</td>\n",
       "      <td>0.479777</td>\n",
       "      <td>0.467245</td>\n",
       "      <td>0.639526</td>\n",
       "      <td>0.640294</td>\n",
       "      <td>0.629682</td>\n",
       "      <td>0.608593</td>\n",
       "      <td>0.658797</td>\n",
       "    </tr>\n",
       "  </tbody>\n",
       "</table>\n",
       "<p>641913 rows × 8 columns</p>\n",
       "</div>"
      ],
      "text/plain": [
       "              d0        d1        d2        d3        d4        d5        d6  \\\n",
       "0       0.087656  0.310773  0.680413  0.655711  0.638731  0.638867  0.629401   \n",
       "1       0.115149  0.265924  0.662200  0.665394  0.638162  0.635808  0.625600   \n",
       "2       0.136399  0.237099  0.650176  0.672751  0.637976  0.632701  0.623327   \n",
       "3       0.148912  0.221893  0.642867  0.677514  0.637036  0.631287  0.621542   \n",
       "4       0.152212  0.218483  0.640673  0.682049  0.635764  0.629918  0.620734   \n",
       "...          ...       ...       ...       ...       ...       ...       ...   \n",
       "641908  0.053026  0.495735  0.405518  0.612959  0.651828  0.626037  0.607695   \n",
       "641909  0.053938  0.479430  0.413306  0.618116  0.652189  0.625937  0.607780   \n",
       "641910  0.052308  0.469862  0.424857  0.624395  0.650504  0.626551  0.608511   \n",
       "641911  0.046912  0.469118  0.442572  0.631608  0.646845  0.627021  0.608553   \n",
       "641912  0.037698  0.479777  0.467245  0.639526  0.640294  0.629682  0.608593   \n",
       "\n",
       "              d7  \n",
       "0       0.613517  \n",
       "1       0.615750  \n",
       "2       0.616876  \n",
       "3       0.618331  \n",
       "4       0.619513  \n",
       "...          ...  \n",
       "641908  0.637428  \n",
       "641909  0.637937  \n",
       "641910  0.641257  \n",
       "641911  0.648367  \n",
       "641912  0.658797  \n",
       "\n",
       "[641913 rows x 8 columns]"
      ]
     },
     "execution_count": 19,
     "metadata": {},
     "output_type": "execute_result"
    }
   ],
   "source": [
    "dfNorm"
   ]
  }
 ],
 "metadata": {
  "kernelspec": {
   "display_name": "Python 3.8.2 64-bit ('ptorch': conda)",
   "language": "python",
   "name": "python38264bitptorchconda526be3fe34db4c6e9ce522e086b57990"
  },
  "language_info": {
   "codemirror_mode": {
    "name": "ipython",
    "version": 3
   },
   "file_extension": ".py",
   "mimetype": "text/x-python",
   "name": "python",
   "nbconvert_exporter": "python",
   "pygments_lexer": "ipython3",
   "version": "3.8.2"
  }
 },
 "nbformat": 4,
 "nbformat_minor": 4
}
