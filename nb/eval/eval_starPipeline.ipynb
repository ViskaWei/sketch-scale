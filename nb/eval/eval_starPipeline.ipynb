{
 "cells": [
  {
   "cell_type": "code",
   "execution_count": 20,
   "metadata": {},
   "outputs": [],
   "source": [
    "DATASET_PATH = \"/home/swei20/sketch-scale/out\"\n",
    "dfNorm_PATH = \"out/dfNorm.csv\""
   ]
  },
  {
   "cell_type": "code",
   "execution_count": 6,
   "metadata": {},
   "outputs": [],
   "source": [
    "import os\n",
    "import sys\n",
    "import h5py\n",
    "import numpy as np\n",
    "import pandas as pd\n",
    "import matplotlib.pyplot as plt"
   ]
  },
  {
   "cell_type": "code",
   "execution_count": 7,
   "metadata": {},
   "outputs": [
    {
     "data": {
      "text/plain": [
       "'/home/swei20/sketch-scale'"
      ]
     },
     "execution_count": 7,
     "metadata": {},
     "output_type": "execute_result"
    }
   ],
   "source": [
    "sys.path.insert(0, '../..')\n",
    "os.chdir(\"/home/swei20/sketch-scale/\")\n",
    "os.getcwd()"
   ]
  },
  {
   "cell_type": "code",
   "execution_count": 8,
   "metadata": {},
   "outputs": [],
   "source": [
    "%load_ext autoreload\n",
    "%autoreload 2"
   ]
  },
  {
   "cell_type": "markdown",
   "metadata": {},
   "source": [
    "### checking starPipeline"
   ]
  },
  {
   "cell_type": "code",
   "execution_count": 16,
   "metadata": {},
   "outputs": [],
   "source": [
    "from src.pipelines.starPipeline import StarPipeline"
   ]
  },
  {
   "cell_type": "code",
   "execution_count": 19,
   "metadata": {},
   "outputs": [],
   "source": [
    "sys.argv = [\"eval_starPipeline\", \"--config\", \"/home/swei20/sketch-scale/src/configs/starConfig.json\"]"
   ]
  },
  {
   "cell_type": "code",
   "execution_count": 20,
   "metadata": {},
   "outputs": [
    {
     "name": "stderr",
     "output_type": "stream",
     "text": [
      "INFO:root:Output directory is ./out/star/\n",
      "INFO:root:saving dict_items([('stream', False), ('HH', True), ('UMAP', True), ('KMAP', True)])\n"
     ]
    },
    {
     "name": "stdout",
     "output_type": "stream",
     "text": [
      "{'seed': 112, 'test': True, 'name': 'test', 'in': '/scratch/ceph/szalay/swei20/cancerHH/AceCanZ/data/sdss_stars/', 'out': './out/star/', 'dim': 10, 'base': 22, 'dtype': 'uint64', 'dfNorm': None, 'sketchMode': 'exact', 'topk': None, 'csParams': None, 'ratio': 1.0, 'emDim': 4, 'nCluster': 10, 'saveStream': False, 'saveHH': True, 'saveUMAP': True, 'saveKMAP': True, 'star': None, 'photo': None, 'spec': None, 'ftr': None, 'sci': False}\n",
      "Output directory not Empty, Replacing might occurs\n",
      "['W' 'K7' 'F8' 'A2' 'G8']\n",
      "['W' 'x' 'V' 'II' 'I']\n",
      "samples: 1000 ftrs: 10 base: 22\n",
      "=============exact counting HHs==============\n",
      "exact counting time:0.00\n",
      "      0   1   2   3   4  5  6  7  8  9            HH  freq      rk     ra\n",
      "0     6   7   8   8   4  4  3  3  2  2  2.532135e+12  58.0    58.0  0.058\n",
      "1     7   9  10  10   5  5  4  3  3  2  2.587130e+12  39.0    97.0  0.097\n",
      "2     5   6   6   6   3  3  3  2  2  2  2.529635e+12  33.0   130.0  0.130\n",
      "3     6   7   8   8   4  4  3  2  2  2  2.529641e+12  31.0   161.0  0.161\n",
      "4     8  10  11  11   5  5  4  3  3  2  2.587130e+12  31.0   192.0  0.192\n",
      "..   ..  ..  ..  ..  .. .. .. .. .. ..           ...   ...     ...    ...\n",
      "295   8  10  10  10   5  4  4  3  2  2  2.532249e+12   1.0   996.0  0.996\n",
      "296   2   3   3   3   3  3  3  2  2  2  2.529635e+12   1.0   997.0  0.997\n",
      "297  11  15  18  20  11  9  6  6  5  4  5.119152e+12   1.0   998.0  0.998\n",
      "298   2   3   4   4   4  4  2  3  3  2  2.586897e+12   1.0   999.0  0.999\n",
      "299   7   8   9   8   4  4  3  2  3  2  2.584517e+12   1.0  1000.0  1.000\n",
      "\n",
      "[300 rows x 14 columns]\n",
      "{'stream': False, 'HH': True, 'UMAP': True, 'KMAP': True}\n"
     ]
    },
    {
     "name": "stderr",
     "output_type": "stream",
     "text": [
      "/home/swei20/.local/lib/python3.8/site-packages/umap/umap_.py:1678: UserWarning: n_neighbors is larger than the dataset size; truncating to X.shape[0] - 1\n",
      "  warn(\n"
     ]
    }
   ],
   "source": [
    "sp = StarPipeline()\n",
    "sp.execute()"
   ]
  },
  {
   "cell_type": "code",
   "execution_count": 26,
   "metadata": {},
   "outputs": [
    {
     "data": {
      "text/plain": [
       "Index([0, 1, 2, 3, 'class', 'subclass', 'lbl', 'lu', 'class5', 't', 't8'], dtype='object')"
      ]
     },
     "execution_count": 26,
     "metadata": {},
     "output_type": "execute_result"
    }
   ],
   "source": [
    "sp.dfSpec.columns"
   ]
  },
  {
   "cell_type": "code",
   "execution_count": null,
   "metadata": {},
   "outputs": [],
   "source": []
  },
  {
   "cell_type": "code",
   "execution_count": null,
   "metadata": {},
   "outputs": [],
   "source": []
  }
 ],
 "metadata": {
  "kernelspec": {
   "display_name": "Python 3.8.2 64-bit ('ptorch': conda)",
   "language": "python",
   "name": "python38264bitptorchconda526be3fe34db4c6e9ce522e086b57990"
  },
  "language_info": {
   "codemirror_mode": {
    "name": "ipython",
    "version": 3
   },
   "file_extension": ".py",
   "mimetype": "text/x-python",
   "name": "python",
   "nbconvert_exporter": "python",
   "pygments_lexer": "ipython3",
   "version": "3.8.2"
  }
 },
 "nbformat": 4,
 "nbformat_minor": 4
}
